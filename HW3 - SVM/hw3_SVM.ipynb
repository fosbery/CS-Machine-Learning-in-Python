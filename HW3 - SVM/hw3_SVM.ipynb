{
 "cells": [
  {
   "cell_type": "markdown",
   "metadata": {},
   "source": [
    "# Assignment 3 - Linear Classifiers\n",
    "\n",
    "The goal of this assignment is to familiarize yourself with the SVM classifiers available in scikit-learn and practice applying them to data.\n",
    "\n",
    "This assignment does _not_ require you to implement your own classifier from scratch, but you may need to look at the SciKit-Learn documentation to figure out how to call the library methods."
   ]
  },
  {
   "cell_type": "markdown",
   "metadata": {},
   "source": [
    "**CSC 8515 - Machine Learning  \n",
    "Assignment 3  \n",
    "Scaffolding by Dr. Ben Mitchell  \n",
    "Assignment completed by: James Fung  **"
   ]
  },
  {
   "cell_type": "code",
   "execution_count": 1,
   "metadata": {
    "collapsed": true
   },
   "outputs": [],
   "source": [
    "# import the things we'll need\n",
    "import numpy as np\n",
    "from sklearn import neighbors\n",
    "from sklearn import datasets\n",
    "from sklearn import svm\n",
    "from sklearn.model_selection import train_test_split"
   ]
  },
  {
   "cell_type": "markdown",
   "metadata": {},
   "source": [
    "## Load some data\n",
    "Let's go ahead and use the iris dataset again.  Load it the same way we did in Assignment 1b, and split it into 60% train and 40% test just like we did there.\n",
    "\n",
    "**Be sure to use the argument `random_state=0` just like we did in the previous assignment.**  This is a \"seed\" for the random number generator; any particular seed value should always result in the same set of \"random\" numbers.  We'll use fixed seed values here because it will allow everyone to get the same results."
   ]
  },
  {
   "cell_type": "code",
   "execution_count": 2,
   "metadata": {
    "collapsed": true
   },
   "outputs": [],
   "source": [
    "# then load some data...\n",
    "iris = datasets.load_iris()\n",
    "X_train, X_test, y_train, y_test = train_test_split(iris.data, iris.target, test_size=0.4, random_state=2)"
   ]
  },
  {
   "cell_type": "markdown",
   "metadata": {},
   "source": [
    "## Create a Nearest Neighbor classifier\n",
    "Create a nearest neighbor classifier just like we did in Assignment 1b; here, we will use it as a baseline for comparing our new classifiers.  Be sure to train it and then evaluate its performance on the testing data (again, you should be able to use code from the previous assignment with little or no modification to do this).  Use an n_neighbors value of 1.  This should give you the same accuracy as you got in the previous assignment.\n",
    "\n",
    "Once you've got it working, try changing the `random_state` value in the train_test_split function to 1 and re-running your nearest-neighbor classifier.  Try it again with a value of 2.  Write down each of the accuracies below; the first one has been done for you."
   ]
  },
  {
   "cell_type": "code",
   "execution_count": 3,
   "metadata": {
    "collapsed": true
   },
   "outputs": [],
   "source": [
    "import math\n",
    "def distance(x, y):\n",
    "    #Zip x and y into a singular array so that computations can be performed on each tuple within.\n",
    "        distance = math.sqrt(sum([(xi-yi)**2 for (xi,yi) in zip(x,y)]))\n",
    "        return distance\n",
    "import itertools #To \"slice\" dictionaries\n",
    "import collections #To create an ordered dictionary\n",
    "from statistics import mode\n",
    "\n",
    "def myNearestNeighbor(train, trainLabels, test, testLabels, k):\n",
    "    \n",
    "    #Compute a list that contains all of the predicted labels for each test query.\n",
    "    bestlabel = []\n",
    "    query = 0\n",
    "    #While loop for variables in test.\n",
    "    while query <= len(test)-1:\n",
    "        bestdist = math.inf\n",
    "        compare = 0\n",
    "        templabel = []\n",
    "        distances = []\n",
    "        #While loop for variables in train.\n",
    "        while compare <= len(train)-1:\n",
    "            dist = distance(train[compare],test[query])\n",
    "            #Append the distances to the distance list.\n",
    "            distances.append(dist)\n",
    "            #Append the labels at the same time to a temporary label list.\n",
    "            templabel.append(trainLabels[compare])\n",
    "            compare += 1\n",
    "            \n",
    "        #The below code will be used to find the k nearest neighbors.\n",
    "        #However, for situations of a tie, an exception will be raised and an additional neighbor will be used.\n",
    "        #Create an ordered dictionary, sorted by the distance key, so that one could call in the \"first k elements.\"\n",
    "        distdictionary = collections.OrderedDict(sorted(zip(distances,templabel)))\n",
    "        try:\n",
    "            nearestdict = list(itertools.islice(distdictionary.items(),0,k))\n",
    "            #Create a list that is the 1st element for each tuple, which is the corresponding label to each distance.\n",
    "            nearestlabels = [x[1] for x in nearestdict]\n",
    "            bestlabel.append(mode(nearestlabels))\n",
    "        \n",
    "        except:\n",
    "            #Additional neighbor is added.\n",
    "            nearestdict = list(itertools.islice(distdictionary.items(),0,k+1))\n",
    "            nearestlabels = [x[1] for x in nearestdict]\n",
    "            bestlabel.append(mode(nearestlabels))\n",
    "            \n",
    "        query += 1\n",
    "    \n",
    "    #Compute the accuracy, using a counter that will add for every prediction that is correct between the predicted label and the actual label.\n",
    "    xacc = 0\n",
    "    yacc = 0\n",
    "    counter = 0\n",
    "    while xacc <= len(test)-1:\n",
    "        if bestlabel[xacc] == testLabels[yacc]:\n",
    "            counter += 1\n",
    "        xacc += 1\n",
    "        yacc += 1\n",
    "    accuracy = counter/len(test)\n",
    "    return accuracy"
   ]
  },
  {
   "cell_type": "code",
   "execution_count": 4,
   "metadata": {},
   "outputs": [
    {
     "data": {
      "text/plain": [
       "0.9666666666666667"
      ]
     },
     "execution_count": 4,
     "metadata": {},
     "output_type": "execute_result"
    }
   ],
   "source": [
    "myNearestNeighbor(X_train,y_train,X_test,y_test,1)"
   ]
  },
  {
   "cell_type": "markdown",
   "metadata": {},
   "source": [
    "**Question 1: accuracy of nearest neighbor for different random seed values**\n",
    "\n",
    "seed=0, accuracy = 0.9166666666666666\n",
    "\n",
    "seed=1, accuracy = 0.9666666666666667\n",
    "\n",
    "seed=2, accuracy = 0.9666666666666667"
   ]
  },
  {
   "cell_type": "markdown",
   "metadata": {},
   "source": [
    "## Create a linear SVM\n",
    "Code to create a linear SVM is given; however, it is left to you to add lines to train the SVM on the training data and then evaluate its accuracy on the testing data.  This should work just like the training/testing process did using the nearestNeighbor class.\n",
    "\n",
    "Test your classifier on different train/test splits using the same three random-seed values as previously, and report the accuracies you get."
   ]
  },
  {
   "cell_type": "code",
   "execution_count": 5,
   "metadata": {},
   "outputs": [
    {
     "data": {
      "text/plain": [
       "0.96666666666666667"
      ]
     },
     "execution_count": 5,
     "metadata": {},
     "output_type": "execute_result"
    }
   ],
   "source": [
    "linearSvm = svm.SVC(kernel='linear')\n",
    "linearSvm.fit(X_train,y_train)\n",
    "linearSvm.score(X_test,y_test)"
   ]
  },
  {
   "cell_type": "markdown",
   "metadata": {},
   "source": [
    "**Question 2: accuracy of linear SVM for different random seed values**\n",
    "\n",
    "seed=0, accuracy = 0.96666666666666667\n",
    "\n",
    "seed=1, accuracy = 0.98333333333333328\n",
    "\n",
    "seed=2, accuracy = 0.96666666666666667"
   ]
  },
  {
   "cell_type": "markdown",
   "metadata": {},
   "source": [
    "## Create a polynomial-kernel SVM\n",
    "Create another SVM, only this time use the argument `kernel='poly'` to make an SVM using a polynomial kernel.  Train and test it with different seed values as before."
   ]
  },
  {
   "cell_type": "code",
   "execution_count": 6,
   "metadata": {},
   "outputs": [
    {
     "data": {
      "text/plain": [
       "0.94999999999999996"
      ]
     },
     "execution_count": 6,
     "metadata": {},
     "output_type": "execute_result"
    }
   ],
   "source": [
    "polySvm = svm.SVC(kernel='poly')\n",
    "polySvm.fit(X_train,y_train)\n",
    "polySvm.score(X_test,y_test)"
   ]
  },
  {
   "cell_type": "markdown",
   "metadata": {},
   "source": [
    "**Question 3: accuracy of polynomial SVM for different random seed values**\n",
    "\n",
    "seed=0, accuracy = 0.96666666666666667\n",
    "\n",
    "seed=1, accuracy = 0.98333333333333328\n",
    "\n",
    "seed=2, accuracy = 0.94999999999999996"
   ]
  },
  {
   "cell_type": "markdown",
   "metadata": {},
   "source": [
    "## Create a rbf-kernel SVM\n",
    "\n",
    "Create another svm, this time using `'rbf'` for the kernel type.  Train and test as before."
   ]
  },
  {
   "cell_type": "code",
   "execution_count": 7,
   "metadata": {},
   "outputs": [
    {
     "data": {
      "text/plain": [
       "0.96666666666666667"
      ]
     },
     "execution_count": 7,
     "metadata": {},
     "output_type": "execute_result"
    }
   ],
   "source": [
    "rbfSvm = svm.SVC(kernel='rbf')\n",
    "rbfSvm.fit(X_train,y_train)\n",
    "rbfSvm.score(X_test,y_test)"
   ]
  },
  {
   "cell_type": "markdown",
   "metadata": {},
   "source": [
    "**Question 4: accuracy of rbf SVM for different random seed values**\n",
    "\n",
    "seed=0, accuracy = 0.94999999999999996\n",
    "\n",
    "seed=1, accuracy = 0.98333333333333328\n",
    "\n",
    "seed=2, accuracy = 0.96666666666666667"
   ]
  },
  {
   "cell_type": "code",
   "execution_count": null,
   "metadata": {
    "collapsed": true
   },
   "outputs": [],
   "source": []
  }
 ],
 "metadata": {
  "kernelspec": {
   "display_name": "Python 3",
   "language": "python",
   "name": "python3"
  },
  "language_info": {
   "codemirror_mode": {
    "name": "ipython",
    "version": 3
   },
   "file_extension": ".py",
   "mimetype": "text/x-python",
   "name": "python",
   "nbconvert_exporter": "python",
   "pygments_lexer": "ipython3",
   "version": "3.6.2"
  }
 },
 "nbformat": 4,
 "nbformat_minor": 2
}
