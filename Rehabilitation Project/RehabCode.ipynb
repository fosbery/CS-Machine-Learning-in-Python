{
 "cells": [
  {
   "cell_type": "markdown",
   "metadata": {
    "collapsed": true
   },
   "source": [
    "## CSC 8515 - Machine Learning Project  \n",
    "**Topic: Predicting success in rehabilitation  \n",
    "Author: James Fung  **"
   ]
  },
  {
   "cell_type": "code",
   "execution_count": 63,
   "metadata": {
    "collapsed": true
   },
   "outputs": [],
   "source": [
    "#General.\n",
    "import pandas as pd\n",
    "import numpy as np\n",
    "import matplotlib.pyplot as plt\n",
    "\n",
    "#One hot encoder.\n",
    "from sklearn.preprocessing import LabelEncoder\n",
    "from sklearn.preprocessing import OneHotEncoder\n",
    "\n",
    "#Split methods.\n",
    "from sklearn.model_selection import train_test_split\n",
    "\n",
    "#Models\n",
    "from sklearn.ensemble import RandomForestClassifier\n",
    "from sklearn.ensemble import AdaBoostClassifier\n",
    "from sklearn.feature_selection import RFE\n",
    "from sklearn.linear_model import LogisticRegression\n",
    "from sklearn import tree\n",
    "from sklearn.neural_network import MLPClassifier\n",
    "from sklearn.neighbors import KNeighborsClassifier\n",
    "from sklearn.metrics import confusion_matrix\n",
    "from sklearn.dummy import DummyClassifier\n",
    "from sklearn import svm\n",
    "from sklearn.manifold import TSNE\n",
    "\n",
    "from sklearn.decomposition import PCA\n",
    "\n",
    "#Seaborn.\n",
    "import seaborn as sns\n",
    "sns.set(style=\"ticks\", color_codes=True)\n",
    "%matplotlib inline\n",
    "\n",
    "from matplotlib import rcParams\n",
    "# figure size in inches\n",
    "rcParams['figure.figsize'] = 14,10\n",
    "\n",
    "#Statistial packages.\n",
    "from scipy.stats import chi2_contingency\n",
    "\n",
    "from sklearn import metrics\n",
    "\n",
    "from collections import Counter"
   ]
  },
  {
   "cell_type": "markdown",
   "metadata": {},
   "source": [
    "## Import Data, Feature Exploration"
   ]
  },
  {
   "cell_type": "code",
   "execution_count": 2,
   "metadata": {
    "collapsed": true
   },
   "outputs": [],
   "source": [
    "#Import the rehab file as a pandas file.\n",
    "\n",
    "#Read the data.\n",
    "rehab = pd.read_csv('Rehab.csv', header=0)"
   ]
  },
  {
   "cell_type": "code",
   "execution_count": 3,
   "metadata": {},
   "outputs": [
    {
     "data": {
      "text/html": [
       "<div>\n",
       "<style scoped>\n",
       "    .dataframe tbody tr th:only-of-type {\n",
       "        vertical-align: middle;\n",
       "    }\n",
       "\n",
       "    .dataframe tbody tr th {\n",
       "        vertical-align: top;\n",
       "    }\n",
       "\n",
       "    .dataframe thead th {\n",
       "        text-align: right;\n",
       "    }\n",
       "</style>\n",
       "<table border=\"1\" class=\"dataframe\">\n",
       "  <thead>\n",
       "    <tr style=\"text-align: right;\">\n",
       "      <th></th>\n",
       "      <th>Unnamed: 0</th>\n",
       "      <th>CASEID</th>\n",
       "      <th>DISYR</th>\n",
       "      <th>AGE</th>\n",
       "      <th>GENDER</th>\n",
       "      <th>RACE</th>\n",
       "      <th>ETHNIC</th>\n",
       "      <th>MARSTAT</th>\n",
       "      <th>EDUC</th>\n",
       "      <th>EMPLOY</th>\n",
       "      <th>...</th>\n",
       "      <th>BARBFLG</th>\n",
       "      <th>SEDHPFLG</th>\n",
       "      <th>INHFLG</th>\n",
       "      <th>OTCFLG</th>\n",
       "      <th>OTHERFLG</th>\n",
       "      <th>ALCDRUG</th>\n",
       "      <th>DSMCRIT</th>\n",
       "      <th>PSYPROB</th>\n",
       "      <th>HLTHINS</th>\n",
       "      <th>PRIMPAY</th>\n",
       "    </tr>\n",
       "  </thead>\n",
       "  <tbody>\n",
       "    <tr>\n",
       "      <th>0</th>\n",
       "      <td>1</td>\n",
       "      <td>2.014000e+10</td>\n",
       "      <td>2014</td>\n",
       "      <td>18-20</td>\n",
       "      <td>MALE</td>\n",
       "      <td>WHITE</td>\n",
       "      <td>NOT OF HISPANIC ORIGIN</td>\n",
       "      <td>NEVER MARRIED</td>\n",
       "      <td>9-11</td>\n",
       "      <td>UNEMPLOYED</td>\n",
       "      <td>...</td>\n",
       "      <td>SUBSTANCE NOT REPORTED</td>\n",
       "      <td>SUBSTANCE NOT REPORTED</td>\n",
       "      <td>SUBSTANCE NOT REPORTED</td>\n",
       "      <td>SUBSTANCE NOT REPORTED</td>\n",
       "      <td>SUBSTANCE NOT REPORTED</td>\n",
       "      <td>OTHER DRUGS ONLY</td>\n",
       "      <td>CANNABIS DEPENDENCE</td>\n",
       "      <td>YES</td>\n",
       "      <td>NONE</td>\n",
       "      <td>OTHER GOVERNMENT PAYMENTS</td>\n",
       "    </tr>\n",
       "    <tr>\n",
       "      <th>1</th>\n",
       "      <td>2</td>\n",
       "      <td>2.014000e+10</td>\n",
       "      <td>2014</td>\n",
       "      <td>50-54</td>\n",
       "      <td>MALE</td>\n",
       "      <td>WHITE</td>\n",
       "      <td>NOT OF HISPANIC ORIGIN</td>\n",
       "      <td>SEPARATED</td>\n",
       "      <td>12</td>\n",
       "      <td>UNEMPLOYED</td>\n",
       "      <td>...</td>\n",
       "      <td>SUBSTANCE NOT REPORTED</td>\n",
       "      <td>SUBSTANCE NOT REPORTED</td>\n",
       "      <td>SUBSTANCE NOT REPORTED</td>\n",
       "      <td>SUBSTANCE NOT REPORTED</td>\n",
       "      <td>SUBSTANCE NOT REPORTED</td>\n",
       "      <td>ALCOHOL ONLY</td>\n",
       "      <td>ALCOHOL DEPENDENCE</td>\n",
       "      <td>NO</td>\n",
       "      <td>MISSING/UNKNOWN/NOT COLLECTED/INVALID</td>\n",
       "      <td>MISSING/UNKNOWN/NOT COLLECTED/INVALID</td>\n",
       "    </tr>\n",
       "    <tr>\n",
       "      <th>2</th>\n",
       "      <td>3</td>\n",
       "      <td>2.014000e+10</td>\n",
       "      <td>2014</td>\n",
       "      <td>21-24</td>\n",
       "      <td>FEMALE</td>\n",
       "      <td>WHITE</td>\n",
       "      <td>NOT OF HISPANIC ORIGIN</td>\n",
       "      <td>NEVER MARRIED</td>\n",
       "      <td>12</td>\n",
       "      <td>UNEMPLOYED</td>\n",
       "      <td>...</td>\n",
       "      <td>SUBSTANCE NOT REPORTED</td>\n",
       "      <td>SUBSTANCE NOT REPORTED</td>\n",
       "      <td>SUBSTANCE NOT REPORTED</td>\n",
       "      <td>SUBSTANCE NOT REPORTED</td>\n",
       "      <td>SUBSTANCE NOT REPORTED</td>\n",
       "      <td>OTHER DRUGS ONLY</td>\n",
       "      <td>OTHER SUBSTANCE DEPENDENCE</td>\n",
       "      <td>NO</td>\n",
       "      <td>NONE</td>\n",
       "      <td>NO CHARGE (FREE, CHARITY, SPECIAL RESEARCH, TE...</td>\n",
       "    </tr>\n",
       "    <tr>\n",
       "      <th>3</th>\n",
       "      <td>4</td>\n",
       "      <td>2.014000e+10</td>\n",
       "      <td>2014</td>\n",
       "      <td>50-54</td>\n",
       "      <td>MALE</td>\n",
       "      <td>WHITE</td>\n",
       "      <td>NOT OF HISPANIC ORIGIN</td>\n",
       "      <td>DIVORCED, WIDOWED</td>\n",
       "      <td>12</td>\n",
       "      <td>UNEMPLOYED</td>\n",
       "      <td>...</td>\n",
       "      <td>SUBSTANCE NOT REPORTED</td>\n",
       "      <td>SUBSTANCE NOT REPORTED</td>\n",
       "      <td>SUBSTANCE NOT REPORTED</td>\n",
       "      <td>SUBSTANCE NOT REPORTED</td>\n",
       "      <td>SUBSTANCE NOT REPORTED</td>\n",
       "      <td>OTHER DRUGS ONLY</td>\n",
       "      <td>MISSING/UNKNOWN/NOT COLLECTED/INVALID</td>\n",
       "      <td>NO</td>\n",
       "      <td>MISSING/UNKNOWN/NOT COLLECTED/INVALID</td>\n",
       "      <td>MEDICAID</td>\n",
       "    </tr>\n",
       "    <tr>\n",
       "      <th>4</th>\n",
       "      <td>5</td>\n",
       "      <td>2.014000e+10</td>\n",
       "      <td>2014</td>\n",
       "      <td>25-29</td>\n",
       "      <td>MALE</td>\n",
       "      <td>WHITE</td>\n",
       "      <td>NOT OF HISPANIC ORIGIN</td>\n",
       "      <td>NEVER MARRIED</td>\n",
       "      <td>12</td>\n",
       "      <td>NOT IN LABOR FORCE</td>\n",
       "      <td>...</td>\n",
       "      <td>SUBSTANCE NOT REPORTED</td>\n",
       "      <td>SUBSTANCE NOT REPORTED</td>\n",
       "      <td>SUBSTANCE NOT REPORTED</td>\n",
       "      <td>SUBSTANCE NOT REPORTED</td>\n",
       "      <td>SUBSTANCE NOT REPORTED</td>\n",
       "      <td>OTHER DRUGS ONLY</td>\n",
       "      <td>OTHER SUBSTANCE DEPENDENCE</td>\n",
       "      <td>NO</td>\n",
       "      <td>NONE</td>\n",
       "      <td>OTHER</td>\n",
       "    </tr>\n",
       "  </tbody>\n",
       "</table>\n",
       "<p>5 rows × 65 columns</p>\n",
       "</div>"
      ],
      "text/plain": [
       "   Unnamed: 0        CASEID  DISYR    AGE  GENDER   RACE  \\\n",
       "0           1  2.014000e+10   2014  18-20    MALE  WHITE   \n",
       "1           2  2.014000e+10   2014  50-54    MALE  WHITE   \n",
       "2           3  2.014000e+10   2014  21-24  FEMALE  WHITE   \n",
       "3           4  2.014000e+10   2014  50-54    MALE  WHITE   \n",
       "4           5  2.014000e+10   2014  25-29    MALE  WHITE   \n",
       "\n",
       "                   ETHNIC            MARSTAT  EDUC              EMPLOY  \\\n",
       "0  NOT OF HISPANIC ORIGIN      NEVER MARRIED  9-11          UNEMPLOYED   \n",
       "1  NOT OF HISPANIC ORIGIN          SEPARATED    12          UNEMPLOYED   \n",
       "2  NOT OF HISPANIC ORIGIN      NEVER MARRIED    12          UNEMPLOYED   \n",
       "3  NOT OF HISPANIC ORIGIN  DIVORCED, WIDOWED    12          UNEMPLOYED   \n",
       "4  NOT OF HISPANIC ORIGIN      NEVER MARRIED    12  NOT IN LABOR FORCE   \n",
       "\n",
       "                         ...                                         BARBFLG  \\\n",
       "0                        ...                          SUBSTANCE NOT REPORTED   \n",
       "1                        ...                          SUBSTANCE NOT REPORTED   \n",
       "2                        ...                          SUBSTANCE NOT REPORTED   \n",
       "3                        ...                          SUBSTANCE NOT REPORTED   \n",
       "4                        ...                          SUBSTANCE NOT REPORTED   \n",
       "\n",
       "                 SEDHPFLG                  INHFLG                  OTCFLG  \\\n",
       "0  SUBSTANCE NOT REPORTED  SUBSTANCE NOT REPORTED  SUBSTANCE NOT REPORTED   \n",
       "1  SUBSTANCE NOT REPORTED  SUBSTANCE NOT REPORTED  SUBSTANCE NOT REPORTED   \n",
       "2  SUBSTANCE NOT REPORTED  SUBSTANCE NOT REPORTED  SUBSTANCE NOT REPORTED   \n",
       "3  SUBSTANCE NOT REPORTED  SUBSTANCE NOT REPORTED  SUBSTANCE NOT REPORTED   \n",
       "4  SUBSTANCE NOT REPORTED  SUBSTANCE NOT REPORTED  SUBSTANCE NOT REPORTED   \n",
       "\n",
       "                 OTHERFLG           ALCDRUG  \\\n",
       "0  SUBSTANCE NOT REPORTED  OTHER DRUGS ONLY   \n",
       "1  SUBSTANCE NOT REPORTED      ALCOHOL ONLY   \n",
       "2  SUBSTANCE NOT REPORTED  OTHER DRUGS ONLY   \n",
       "3  SUBSTANCE NOT REPORTED  OTHER DRUGS ONLY   \n",
       "4  SUBSTANCE NOT REPORTED  OTHER DRUGS ONLY   \n",
       "\n",
       "                                 DSMCRIT PSYPROB  \\\n",
       "0                    CANNABIS DEPENDENCE     YES   \n",
       "1                     ALCOHOL DEPENDENCE      NO   \n",
       "2             OTHER SUBSTANCE DEPENDENCE      NO   \n",
       "3  MISSING/UNKNOWN/NOT COLLECTED/INVALID      NO   \n",
       "4             OTHER SUBSTANCE DEPENDENCE      NO   \n",
       "\n",
       "                                 HLTHINS  \\\n",
       "0                                   NONE   \n",
       "1  MISSING/UNKNOWN/NOT COLLECTED/INVALID   \n",
       "2                                   NONE   \n",
       "3  MISSING/UNKNOWN/NOT COLLECTED/INVALID   \n",
       "4                                   NONE   \n",
       "\n",
       "                                             PRIMPAY  \n",
       "0                          OTHER GOVERNMENT PAYMENTS  \n",
       "1              MISSING/UNKNOWN/NOT COLLECTED/INVALID  \n",
       "2  NO CHARGE (FREE, CHARITY, SPECIAL RESEARCH, TE...  \n",
       "3                                           MEDICAID  \n",
       "4                                              OTHER  \n",
       "\n",
       "[5 rows x 65 columns]"
      ]
     },
     "execution_count": 3,
     "metadata": {},
     "output_type": "execute_result"
    }
   ],
   "source": [
    "#Quick look at the data.\n",
    "rehab.head()"
   ]
  },
  {
   "cell_type": "code",
   "execution_count": 4,
   "metadata": {
    "collapsed": true
   },
   "outputs": [],
   "source": [
    "#Drop the first three columns as they provide no information. Also drop some \"FLG\" columns, as they are nearly uniform.\n",
    "rehabclean = rehab.drop(['Unnamed: 0','CASEID','DISYR','METHFLG','PCPFLG','HALLFLG','AMPHFLG','STIMFLG','TRNQFLG','BARBFLG','SEDHPFLG','INHFLG','OTCFLG'],1)"
   ]
  },
  {
   "cell_type": "code",
   "execution_count": 5,
   "metadata": {},
   "outputs": [
    {
     "name": "stdout",
     "output_type": "stream",
     "text": [
      "Index(['AGE', 'GENDER', 'RACE', 'ETHNIC', 'MARSTAT', 'EDUC', 'EMPLOY',\n",
      "       'DETNLF', 'PREG', 'VET', 'LIVARAG', 'PRIMINC', 'ARRESTS', 'STFIPS',\n",
      "       'CBSA', 'REGION', 'DIVISION', 'SERVSETD', 'METHUSE', 'DAYWAIT',\n",
      "       'REASON', 'LOS', 'PSOURCE', 'DETCRIM', 'NOPRIOR', 'SUB1', 'ROUTE1',\n",
      "       'FREQ1', 'FRSTUSE1', 'SUB2', 'ROUTE2', 'FREQ2', 'FRSTUSE2', 'SUB3',\n",
      "       'ROUTE3', 'FREQ3', 'FRSTUSE3', 'NUMSUBS', 'IDU', 'ALCFLG', 'COKEFLG',\n",
      "       'MARFLG', 'HERFLG', 'OPSYNFLG', 'MTHAMFLG', 'BENZFLG', 'OTHERFLG',\n",
      "       'ALCDRUG', 'DSMCRIT', 'PSYPROB', 'HLTHINS', 'PRIMPAY'],\n",
      "      dtype='object')\n"
     ]
    }
   ],
   "source": [
    "#What are the column names?\n",
    "print(rehabclean.columns)"
   ]
  },
  {
   "cell_type": "code",
   "execution_count": 6,
   "metadata": {},
   "outputs": [
    {
     "name": "stdout",
     "output_type": "stream",
     "text": [
      "Information for AGE:\n",
      "\n",
      "25-29          17.156154\n",
      "30-34          14.950605\n",
      "21-24          12.145521\n",
      "35-39          10.733518\n",
      "45-49           9.512013\n",
      "40-44           9.428421\n",
      "50-54           8.410860\n",
      "55 AND OVER     7.540683\n",
      "18-20           4.848923\n",
      "15-17           4.361429\n",
      "12-14           0.911872\n",
      "Name: AGE, dtype: float64\n",
      "----------------------------------\n",
      "Information for GENDER:\n",
      "\n",
      "MALE                                     66.254790\n",
      "FEMALE                                   33.725815\n",
      "MISSING/UNKNOWN/NOT COLLECTED/INVALID     0.019394\n",
      "Name: GENDER, dtype: float64\n",
      "----------------------------------\n",
      "Information for RACE:\n",
      "\n",
      "WHITE                                         66.674032\n",
      "BLACK OR AFRICAN AMERICAN                     17.279616\n",
      "OTHER SINGLE RACE                              8.650079\n",
      "AMERICAN INDIAN (OTHER THAN ALASKA NATIVE)     2.369421\n",
      "MISSING/UNKNOWN/NOT COLLECTED/INVALID          1.923013\n",
      "TWO OR MORE RACES                              1.488566\n",
      "ASIAN                                          0.699413\n",
      "NATIVE HAWAIIAN OR OTHER PACIFIC ISLANDER      0.515133\n",
      "ALASKA NATIVE (ALEUT, ESKIMO, INDIAN)          0.264628\n",
      "ASIAN OR PACIFIC ISLANDER                      0.136098\n",
      "Name: RACE, dtype: float64\n",
      "----------------------------------\n",
      "Information for ETHNIC:\n",
      "\n",
      "NOT OF HISPANIC ORIGIN                     84.091166\n",
      "MEXICAN                                     5.220254\n",
      "PUERTO RICAN                                4.027739\n",
      "OTHER SPECIFIC HISPANIC                     2.927532\n",
      "HISPANIC, SPECIFIC ORIGIN NOT SPECIFIED     2.475583\n",
      "MISSING/UNKNOWN/NOT COLLECTED/INVALID       1.079461\n",
      "CUBAN                                       0.178266\n",
      "Name: ETHNIC, dtype: float64\n",
      "----------------------------------\n",
      "Information for MARSTAT:\n",
      "\n",
      "NEVER MARRIED                            50.805946\n",
      "MISSING/UNKNOWN/NOT COLLECTED/INVALID    21.341142\n",
      "DIVORCED, WIDOWED                        12.293175\n",
      "NOW MARRIED                              10.959223\n",
      "SEPARATED                                 4.600514\n",
      "Name: MARSTAT, dtype: float64\n",
      "----------------------------------\n",
      "Information for EDUC:\n",
      "\n",
      "12                                       41.488485\n",
      "9-11                                     23.214420\n",
      "13-15                                    18.844273\n",
      "8 YEARS OR LESS                           7.001425\n",
      "16 OR MORE                                5.492180\n",
      "MISSING/UNKNOWN/NOT COLLECTED/INVALID     3.959216\n",
      "Name: EDUC, dtype: float64\n",
      "----------------------------------\n",
      "Information for EMPLOY:\n",
      "\n",
      "NOT IN LABOR FORCE                       38.973032\n",
      "UNEMPLOYED                               36.841277\n",
      "FULL TIME                                14.961958\n",
      "PART TIME                                 7.344104\n",
      "MISSING/UNKNOWN/NOT COLLECTED/INVALID     1.879629\n",
      "Name: EMPLOY, dtype: float64\n",
      "----------------------------------\n",
      "Information for DETNLF:\n",
      "\n",
      "MISSING/UNKNOWN/NOT COLLECTED/INVALID    68.070763\n",
      "OTHER                                    17.252856\n",
      "RETIRED, DISABLED                         7.986550\n",
      "STUDENT                                   4.029023\n",
      "RESIDENT OF INSTITUTION                   1.820771\n",
      "HOMEMAKER                                 0.840039\n",
      "Name: DETNLF, dtype: float64\n",
      "----------------------------------\n",
      "Information for PREG:\n",
      "\n",
      "MISSING/UNKNOWN/NOT COLLECTED/INVALID    68.326944\n",
      "NO                                       30.315384\n",
      "YES                                       1.357672\n",
      "Name: PREG, dtype: float64\n",
      "----------------------------------\n",
      "Information for VET:\n",
      "\n",
      "NO                                       87.916311\n",
      "MISSING/UNKNOWN/NOT COLLECTED/INVALID     9.137776\n",
      "YES                                       2.945913\n",
      "Name: VET, dtype: float64\n",
      "----------------------------------\n",
      "Information for LIVARAG:\n",
      "\n",
      "INDEPENDENT LIVING                       63.951999\n",
      "DEPENDENT LIVING                         19.326901\n",
      "HOMELESS                                 14.540756\n",
      "MISSING/UNKNOWN/NOT COLLECTED/INVALID     2.180343\n",
      "Name: LIVARAG, dtype: float64\n",
      "----------------------------------\n",
      "Information for PRIMINC:\n",
      "\n",
      "MISSING/UNKNOWN/NOT COLLECTED/INVALID    34.492399\n",
      "NONE                                     23.946404\n",
      "WAGES/SALARY                             17.773327\n",
      "OTHER                                    12.971369\n",
      "PUBLIC ASSISTANCE                         6.485076\n",
      "RETIREMENT/PENSION, DISABILITY            4.331426\n",
      "Name: PRIMINC, dtype: float64\n",
      "----------------------------------\n",
      "Information for ARRESTS:\n",
      "\n",
      "NONE                                     84.640897\n",
      "MISSING/UNKNOWN/NOT COLLECTED/INVALID     7.655021\n",
      "ONCE                                      6.722471\n",
      "2 OR MORE TIMES                           0.981611\n",
      "Name: ARRESTS, dtype: float64\n",
      "----------------------------------\n",
      "Information for STFIPS:\n",
      "\n",
      "NEW YORK                18.458143\n",
      "CALIFORNIA              10.639655\n",
      "MASSACHUSETTS            5.687340\n",
      "COLORADO                 4.406705\n",
      "WASHINGTON               3.929348\n",
      "NEW JERSEY               3.778450\n",
      "MISSOURI                 3.412931\n",
      "NORTH CAROLINA           3.371237\n",
      "CONNECTICUT              3.319473\n",
      "MINNESOTA                3.283523\n",
      "MARYLAND                 2.994162\n",
      "MICHIGAN                 2.840832\n",
      "OREGON                   2.787717\n",
      "OHIO                     2.660404\n",
      "KENTUCKY                 2.629589\n",
      "PENNSYLVANIA             2.542754\n",
      "TEXAS                    2.450445\n",
      "ILLINOIS                 2.060733\n",
      "IOWA                     1.808539\n",
      "INDIANA                  1.735625\n",
      "VIRGINIA                 1.333547\n",
      "UTAH                     0.999518\n",
      "ARIZONA                  0.997626\n",
      "OKLAHOMA                 0.950120\n",
      "TENNESSEE                0.904709\n",
      "SOUTH DAKOTA             0.889842\n",
      "LOUISIANA                0.780166\n",
      "VERMONT                  0.705900\n",
      "MAINE                    0.695088\n",
      "RHODE ISLAND             0.673801\n",
      "NEVADA                   0.613794\n",
      "HAWAII                   0.596900\n",
      "NEBRASKA                 0.559192\n",
      "WISCONSIN                0.473371\n",
      "ALASKA                   0.438569\n",
      "IDAHO                    0.429243\n",
      "ARKANSAS                 0.423094\n",
      "MONTANA                  0.418837\n",
      "ALABAMA                  0.411741\n",
      "DELAWARE                 0.385995\n",
      "DISTRICT OF COLUMBIA     0.372547\n",
      "NEW HAMPSHIRE            0.332204\n",
      "WYOMING                  0.307269\n",
      "PUERTO RICO              0.245774\n",
      "SOUTH CAROLINA           0.195565\n",
      "NORTH DAKOTA             0.067982\n",
      "Name: STFIPS, dtype: float64\n",
      "----------------------------------\n",
      "Information for CBSA:\n",
      "\n",
      "UNDESIGNATED AREA/MISSING/UNKNOWN/NOT COLLECTED/INVALID    21.833772\n",
      "NEW YORK-NEWARK-JERSEY CITY, NY-NJ-PA METRO AREA           14.050154\n",
      "BOSTON-CAMBRIDGE-NEWTON, MA-NH METRO AREA                   2.748996\n",
      "DENVER-AURORA-LAKEWOOD, CO METRO AREA                       2.464974\n",
      "LOS ANGELES-LONG BEACH-ANAHEIM, CA METRO AREA               2.313738\n",
      "MINNEAPOLIS-ST. PAUL-BLOOMINGTON, MN-WI METRO AREA          2.021742\n",
      "PORTLAND-VANCOUVER-HILLSBORO, OR-WA METRO AREA              1.873480\n",
      "SEATTLE-TACOMA-BELLEVUE, WA METRO AREA                      1.512151\n",
      "WASHINGTON-ARLINGTON-ALEXANDRIA, DC-VA-MD-WV METRO AREA     1.502825\n",
      "BALTIMORE-COLUMBIA-TOWSON, MD METRO AREA                    1.455319\n",
      "SAN FRANCISCO-OAKLAND-HAYWARD, CA METRO AREA                1.429978\n",
      "PROVIDENCE-WARWICK, RI-MA METRO AREA                        1.269079\n",
      "DETROIT-WARREN-DEARBORN, MI METRO AREA                      1.243941\n",
      "HARTFORD-WEST HARTFORD-EAST HARTFORD, CT METRO AREA         1.237454\n",
      "BUFFALO-CHEEKTOWAGA-NIAGARA FALLS, NY METRO AREA            1.200827\n",
      "ALBANY-SCHENECTADY-TROY, NY METRO AREA                      1.193326\n",
      "PHILADELPHIA-CAMDEN-WILMINGTON, PA-NJ-DE-MD METRO AREA      1.149334\n",
      "ROCHESTER, NY METRO AREA                                    1.145685\n",
      "CHICAGO-NAPERVILLE-ELGIN, IL-IN-WI METRO AREA               1.118385\n",
      "RIVERSIDE-SAN BERNARDINO-ONTARIO, CA METRO AREA             1.006816\n",
      "SAN DIEGO-CARLSBAD, CA METRO AREA                           0.978434\n",
      "ST. LOUIS, MO-IL METRO AREA                                 0.915116\n",
      "BRIDGEPORT-STAMFORD-NORWALK, CT METRO AREA                  0.815103\n",
      "SYRACUSE, NY METRO AREA                                     0.773476\n",
      "WORCESTER, MA-CT METRO AREA                                 0.673599\n",
      "KANSAS CITY, MO-KS METRO AREA                               0.643730\n",
      "SALT LAKE CITY, UT METRO AREA                               0.621835\n",
      "SAN JOSE-SUNNYVALE-SANTA CLARA, CA METRO AREA               0.581222\n",
      "DALLAS-FORT WORTH-ARLINGTON, TX METRO AREA                  0.556287\n",
      "SACRAMENTO--ROSEVILLE--ARDEN-ARCADE, CA METRO AREA          0.545947\n",
      "                                                             ...    \n",
      "MORRISTOWN, TN METRO AREA                                   0.008852\n",
      "CHAMBERSBURG-WAYNESBORO, PA METRO AREA                      0.007974\n",
      "EVANSVILLE, IN-KY METRO AREA                                0.007771\n",
      "SOUTH BEND-MISHAWAKA, IN-MI METRO AREA                      0.007501\n",
      "LAFAYETTE, LA METRO AREA                                    0.007095\n",
      "HILTON HEAD ISLAND-BLUFFTON-BEAUFORT, SC METRO AREA         0.007095\n",
      "MCALLEN-EDINBURG-MISSION, TX METRO AREA                     0.007095\n",
      "STATE COLLEGE, PA METRO AREA                                0.006960\n",
      "LIMA, OH METRO AREA                                         0.005812\n",
      "HOLLAND, MI MICRO AREA                                      0.005339\n",
      "WEIRTON-STEUBENVILLE, WV-OH METRO AREA                      0.004730\n",
      "LONDON, KY MICRO AREA                                       0.004663\n",
      "GREELEY, CO METRO AREA                                      0.004595\n",
      "HAMMOND, LA METRO AREA                                      0.004595\n",
      "HOUMA-THIBODAUX, LA METRO AREA                              0.004392\n",
      "AGUADILLA-ISABELA, PR METRO AREA                            0.004122\n",
      "SUMTER, SC METRO AREA                                       0.004122\n",
      "JONESBORO, AR METRO AREA                                    0.003582\n",
      "COLLEGE STATION-BRYAN, TX METRO AREA                        0.003514\n",
      "TEXARKANA, TX-AR METRO AREA                                 0.002906\n",
      "LAKE CHARLES, LA METRO AREA                                 0.002365\n",
      "LA CROSSE-ONALASKA, WI-MN METRO AREA                        0.002230\n",
      "WILLIAMSPORT, PA METRO AREA                                 0.002095\n",
      "MANSFIELD, OH METRO AREA                                    0.001622\n",
      "MIAMI-FORT LAUDERDALE-WEST PALM BEACH, FL METRO AREA        0.001487\n",
      "CLEVELAND, TN METRO AREA                                    0.000338\n",
      "ANNISTON-OXFORD-JACKSONVILLE, AL METRO AREA                 0.000338\n",
      "WACO, TX METRO AREA                                         0.000338\n",
      "WOOSTER, OH MICRO AREA                                      0.000270\n",
      "PHOENIX-MESA-SCOTTSDALE, AZ METRO AREA                      0.000135\n",
      "Name: CBSA, Length: 287, dtype: float64\n",
      "----------------------------------\n",
      "Information for REGION:\n",
      "\n",
      "NORTHEAST                    36.193154\n",
      "WEST                         26.565181\n",
      "MIDWEST                      19.792974\n",
      "SOUTH                        17.202917\n",
      "US JURISDICTION/TERRITORY     0.245774\n",
      "Name: REGION, dtype: float64\n",
      "----------------------------------\n",
      "Information for DIVISION:\n",
      "\n",
      "MID-ATLANTIC                 24.779347\n",
      "PACIFIC                      18.392189\n",
      "NEW ENGLAND                  11.413807\n",
      "WEST NORTH CENTRAL           10.022010\n",
      "EAST NORTH CENTRAL            9.770964\n",
      "SOUTH ATLANTIC                8.653053\n",
      "MOUNTAIN                      8.172992\n",
      "WEST SOUTH CENTRAL            4.603825\n",
      "EAST SOUTH CENTRAL            3.946039\n",
      "US JURISDICTION/TERRITORY     0.245774\n",
      "Name: DIVISION, dtype: float64\n",
      "----------------------------------\n",
      "Information for SERVSETD:\n",
      "\n",
      "AMBULATORY, NON-INTENSIVE OUTPATIENT        46.846595\n",
      "DETOX, 24 HR, FREE-STANDING RESIDENTIAL     17.102431\n",
      "AMBULATORY, INTENSIVE OUTPATIENT            13.427778\n",
      "REHAB/RES, SHORT TERM (30 DAYS OR FEWER)    10.685607\n",
      "REHAB/RES, LONG TERM (MORE THAN 30 DAYS)     7.721043\n",
      "DETOX, 24 HR, HOSPITAL INPATIENT             2.859077\n",
      "AMBULATORY, DETOXIFICATION                   1.128589\n",
      "REHAB/RES, HOSPITAL (NON-DETOX)              0.183875\n",
      "MISSING/UNKNOWN/NOT COLLECTED/INVALID        0.045006\n",
      "Name: SERVSETD, dtype: float64\n",
      "----------------------------------\n",
      "Information for METHUSE:\n",
      "\n",
      "NO                                       90.842492\n",
      "YES                                       7.347685\n",
      "MISSING/UNKNOWN/NOT COLLECTED/INVALID     1.809823\n",
      "Name: METHUSE, dtype: float64\n",
      "----------------------------------\n",
      "Information for DAYWAIT:\n",
      "\n",
      "-9      46.646367\n",
      " 0      34.127420\n",
      " 1       3.751555\n",
      " 7       1.617772\n",
      " 2       1.392608\n",
      " 5       1.289893\n",
      " 3       1.216167\n",
      " 4       0.990936\n",
      " 6       0.887072\n",
      " 14      0.734214\n",
      " 10      0.634945\n",
      " 8       0.622444\n",
      " 9       0.406673\n",
      " 13      0.340448\n",
      " 30      0.339502\n",
      " 15      0.337745\n",
      " 12      0.319905\n",
      " 21      0.308552\n",
      " 11      0.285306\n",
      " 20      0.238003\n",
      " 16      0.184077\n",
      " 17      0.159142\n",
      " 18      0.150424\n",
      " 19      0.147181\n",
      " 22      0.139545\n",
      " 28      0.131233\n",
      " 25      0.103729\n",
      " 27      0.103527\n",
      " 23      0.096364\n",
      " 60      0.092985\n",
      "          ...    \n",
      " 766     0.000068\n",
      " 778     0.000068\n",
      " 781     0.000068\n",
      " 707     0.000068\n",
      " 695     0.000068\n",
      " 614     0.000068\n",
      " 648     0.000068\n",
      " 618     0.000068\n",
      " 620     0.000068\n",
      " 626     0.000068\n",
      " 632     0.000068\n",
      " 636     0.000068\n",
      " 638     0.000068\n",
      " 639     0.000068\n",
      " 643     0.000068\n",
      " 645     0.000068\n",
      " 647     0.000068\n",
      " 649     0.000068\n",
      " 690     0.000068\n",
      " 652     0.000068\n",
      " 656     0.000068\n",
      " 660     0.000068\n",
      " 661     0.000068\n",
      " 670     0.000068\n",
      " 671     0.000068\n",
      " 672     0.000068\n",
      " 675     0.000068\n",
      " 678     0.000068\n",
      " 679     0.000068\n",
      " 423     0.000068\n",
      "Name: DAYWAIT, Length: 847, dtype: float64\n"
     ]
    },
    {
     "name": "stdout",
     "output_type": "stream",
     "text": [
      "----------------------------------\n",
      "Information for REASON:\n",
      "\n",
      "TREATMENT COMPLETED                                     43.242626\n",
      "LEFT AGAINST PROFESSIONAL ADVICE                        25.791367\n",
      "TRANSFERRED TO ANOTHER TREATMENT PROGRAM OR FACILITY    15.185838\n",
      "TERMINATED BY FACILITY                                   7.193747\n",
      "OTHER                                                    6.248627\n",
      "INCARCERATED                                             2.122903\n",
      "DEATH                                                    0.214892\n",
      "Name: REASON, dtype: float64\n",
      "----------------------------------\n",
      "Information for LOS:\n",
      "\n",
      "181 TO 365 DAYS                          10.518491\n",
      "121 TO 180 DAYS                           9.228734\n",
      "61 TO 90 DAYS                             9.010733\n",
      "1                                         7.952694\n",
      "91 TO 120 DAYS                            7.464659\n",
      "31 TO 45 DAYS                             6.661247\n",
      "MORE THAN A YEAR                          5.989473\n",
      "46 TO 60 DAYS                             5.278775\n",
      "3                                         3.922928\n",
      "2                                         3.905629\n",
      "4                                         3.825145\n",
      "5                                         3.444962\n",
      "6                                         2.224673\n",
      "7                                         1.803539\n",
      "28                                        1.638518\n",
      "8                                         1.214478\n",
      "14                                        1.162039\n",
      "21                                        1.095206\n",
      "29                                        1.085813\n",
      "15                                        0.980056\n",
      "30                                        0.947282\n",
      "13                                        0.900384\n",
      "10                                        0.866664\n",
      "9                                         0.857879\n",
      "22                                        0.799628\n",
      "27                                        0.753338\n",
      "11                                        0.694074\n",
      "20                                        0.677248\n",
      "12                                        0.650488\n",
      "16                                        0.649609\n",
      "23                                        0.587642\n",
      "17                                        0.579600\n",
      "24                                        0.568112\n",
      "18                                        0.539122\n",
      "19                                        0.511416\n",
      "26                                        0.507970\n",
      "25                                        0.501617\n",
      "MISSING/UNKNOWN/NOT COLLECTED/INVALID     0.000135\n",
      "Name: LOS, dtype: float64\n",
      "----------------------------------\n",
      "Information for PSOURCE:\n",
      "\n",
      "INDIVIDUAL (INCLUDES SELF-REFERRAL)            35.901766\n",
      "COURT/CRIMINAL JUSTICE REFERRAL / DUI / DWI    32.980451\n",
      "ALCOHOL/DRUG ABUSE CARE PROVIDER               11.271154\n",
      "OTHER COMMUNITY REFERRAL                       10.624451\n",
      "OTHER HEALTH CARE PROVIDER                      6.372494\n",
      "MISSING/UNKNOWN/NOT COLLECTED/INVALID           1.621286\n",
      "SCHOOL (EDUCATIONAL)                            0.831659\n",
      "EMPLOYER/EAP                                    0.396739\n",
      "Name: PSOURCE, dtype: float64\n",
      "----------------------------------\n",
      "Information for DETCRIM:\n",
      "\n",
      "MISSING/UNKNOWN/NOT COLLECTED/INVALID    75.376686\n",
      "PROBATION/PAROLE                          8.305239\n",
      "STATE/FEDERAL COURT, OTHER COURT          7.338968\n",
      "OTHER RECOGNIZED LEGAL ENTITY, OTHER      4.961911\n",
      "DUI/DWI                                   2.557147\n",
      "DIVERSIONARY PROGRAM                      0.745635\n",
      "PRISON                                    0.714415\n",
      "Name: DETCRIM, dtype: float64\n",
      "----------------------------------\n",
      "Information for NOPRIOR:\n",
      "\n",
      "NO PRIOR TREATMENT EPISODE               34.132150\n",
      "1 PRIOR TREATMENT EPISODES               21.183758\n",
      "5 OR MORE PRIOR TREATMENT EPISODES       13.767888\n",
      "2 PRIOR TREATMENT EPISODES               11.660054\n",
      "MISSING/UNKNOWN/NOT COLLECTED/INVALID     7.660022\n",
      "3 PRIOR TREATMENT EPISODES                7.267945\n",
      "4 PRIOR TREATMENT EPISODES                4.328182\n",
      "Name: NOPRIOR, dtype: float64\n",
      "----------------------------------\n",
      "Information for SUB1:\n",
      "\n",
      "ALCOHOL                                         35.394675\n",
      "HEROIN                                          22.557783\n",
      "MARIJUANA/HASHISH                               15.404784\n",
      "METHAMPHETAMINE                                  9.169199\n",
      "OTHER OPIATES AND SYNTHETICS                     8.093050\n",
      "COCAINE/CRACK                                    5.366286\n",
      "BENZODIAZEPINES                                  0.938632\n",
      "NONE                                             0.556557\n",
      "MISSING/UNKNOWN/NOT COLLECTED/INVALID            0.536149\n",
      "OTHER AMPHETAMINES                               0.497225\n",
      "OTHER                                            0.459180\n",
      "PCP                                              0.314972\n",
      "NON-PRESCRIPTION METHADONE                       0.254559\n",
      "OTHER HALLUCINOGENS                              0.119542\n",
      "OTHER NON-BARBITURATE SEDATIVES OR HYPNOTICS     0.097107\n",
      "BARBITURATES                                     0.069468\n",
      "OVER-THE-COUNTER MEDICATIONS                     0.055818\n",
      "INHALANTS                                        0.048587\n",
      "OTHER STIMULANTS                                 0.048317\n",
      "OTHER NON-BENZODIAZEPINE TRANQUILIZERS           0.018110\n",
      "Name: SUB1, dtype: float64\n",
      "----------------------------------\n",
      "Information for ROUTE1:\n",
      "\n",
      "ORAL                                     42.601261\n",
      "SMOKING                                  26.260953\n",
      "INJECTION (IV OR INTRAMUSCULAR)          20.326893\n",
      "INHALATION                                8.514319\n",
      "MISSING/UNKNOWN/NOT COLLECTED/INVALID     1.690619\n",
      "OTHER                                     0.605955\n",
      "Name: ROUTE1, dtype: float64\n",
      "----------------------------------\n",
      "Information for FREQ1:\n",
      "\n",
      "DAILY                                    40.104729\n",
      "NO USE IN THE PAST MONTH                 28.055977\n",
      "3-6 TIMES IN THE PAST WEEK               11.190603\n",
      "1-3 TIMES IN THE PAST MONTH              11.025785\n",
      "1-2 TIMES IN THE PAST WEEK                7.872549\n",
      "MISSING/UNKNOWN/NOT COLLECTED/INVALID     1.750356\n",
      "Name: FREQ1, dtype: float64\n",
      "----------------------------------\n",
      "Information for FRSTUSE1:\n",
      "\n",
      "15-17                                    26.350627\n",
      "12-14                                    20.119772\n",
      "18-20                                    17.636485\n",
      "21-24                                    11.051599\n",
      "25-29                                     7.578052\n",
      "11 AND UNDER                              6.138613\n",
      "30-34                                     3.919955\n",
      "MISSING/UNKNOWN/NOT COLLECTED/INVALID     2.631684\n",
      "35-39                                     2.092021\n",
      "40-44                                     1.205287\n",
      "45-49                                     0.687181\n",
      "50-54                                     0.368425\n",
      "55 AND OVER                               0.220298\n",
      "Name: FRSTUSE1, dtype: float64\n",
      "----------------------------------\n",
      "Information for SUB2:\n",
      "\n",
      "NONE                                            38.521354\n",
      "MARIJUANA/HASHISH                               15.605485\n",
      "ALCOHOL                                         12.150319\n",
      "COCAINE/CRACK                                    9.236843\n",
      "MISSING/UNKNOWN/NOT COLLECTED/INVALID            5.083818\n",
      "OTHER OPIATES AND SYNTHETICS                     5.005835\n",
      "METHAMPHETAMINE                                  4.336629\n",
      "BENZODIAZEPINES                                  3.343058\n",
      "HEROIN                                           2.983215\n",
      "OTHER                                            2.051002\n",
      "OTHER AMPHETAMINES                               0.506956\n",
      "NON-PRESCRIPTION METHADONE                       0.242463\n",
      "OTHER NON-BARBITURATE SEDATIVES OR HYPNOTICS     0.237192\n",
      "OTHER HALLUCINOGENS                              0.201917\n",
      "PCP                                              0.199890\n",
      "OVER-THE-COUNTER MEDICATIONS                     0.081429\n",
      "OTHER STIMULANTS                                 0.070076\n",
      "BARBITURATES                                     0.051290\n",
      "INHALANTS                                        0.047438\n",
      "OTHER NON-BENZODIAZEPINE TRANQUILIZERS           0.043789\n",
      "Name: SUB2, dtype: float64\n",
      "----------------------------------\n",
      "Information for ROUTE2:\n",
      "\n",
      "MISSING/UNKNOWN/NOT COLLECTED/INVALID    43.768300\n",
      "SMOKING                                  24.708392\n",
      "ORAL                                     20.115785\n",
      "INHALATION                                5.765458\n",
      "INJECTION (IV OR INTRAMUSCULAR)           5.187615\n",
      "OTHER                                     0.454449\n",
      "Name: ROUTE2, dtype: float64\n",
      "----------------------------------\n",
      "Information for FREQ2:\n",
      "\n",
      "MISSING/UNKNOWN/NOT COLLECTED/INVALID    43.998194\n",
      "NO USE IN THE PAST MONTH                 20.216811\n",
      "DAILY                                    15.845583\n",
      "1-3 TIMES IN THE PAST MONTH               8.456001\n",
      "3-6 TIMES IN THE PAST WEEK                5.777960\n",
      "1-2 TIMES IN THE PAST WEEK                5.705451\n",
      "Name: FREQ2, dtype: float64\n",
      "----------------------------------\n",
      "Information for FRSTUSE2:\n",
      "\n",
      "MISSING/UNKNOWN/NOT COLLECTED/INVALID    42.426847\n",
      "15-17                                    16.126767\n",
      "12-14                                    13.227347\n",
      "18-20                                     9.587765\n",
      "21-24                                     5.504277\n",
      "25-29                                     4.107546\n",
      "11 AND UNDER                              3.834539\n",
      "30-34                                     2.240891\n",
      "35-39                                     1.225560\n",
      "40-44                                     0.786856\n",
      "45-49                                     0.490467\n",
      "50-54                                     0.281928\n",
      "55 AND OVER                               0.159209\n",
      "Name: FRSTUSE2, dtype: float64\n",
      "----------------------------------\n"
     ]
    },
    {
     "name": "stdout",
     "output_type": "stream",
     "text": [
      "Information for SUB3:\n",
      "\n",
      "NONE                                            58.595039\n",
      "MISSING/UNKNOWN/NOT COLLECTED/INVALID           18.725677\n",
      "MARIJUANA/HASHISH                                5.652539\n",
      "ALCOHOL                                          4.431168\n",
      "COCAINE/CRACK                                    3.647961\n",
      "BENZODIAZEPINES                                  1.869358\n",
      "OTHER OPIATES AND SYNTHETICS                     1.854153\n",
      "OTHER                                            1.727989\n",
      "METHAMPHETAMINE                                  1.265768\n",
      "HEROIN                                           0.913291\n",
      "OTHER AMPHETAMINES                               0.397550\n",
      "OTHER HALLUCINOGENS                              0.271859\n",
      "OTHER NON-BARBITURATE SEDATIVES OR HYPNOTICS     0.164683\n",
      "NON-PRESCRIPTION METHADONE                       0.120488\n",
      "PCP                                              0.111433\n",
      "OVER-THE-COUNTER MEDICATIONS                     0.063927\n",
      "OTHER STIMULANTS                                 0.061832\n",
      "INHALANTS                                        0.050682\n",
      "OTHER NON-BENZODIAZEPINE TRANQUILIZERS           0.038113\n",
      "BARBITURATES                                     0.036491\n",
      "Name: SUB3, dtype: float64\n",
      "----------------------------------\n",
      "Information for ROUTE3:\n",
      "\n",
      "MISSING/UNKNOWN/NOT COLLECTED/INVALID    77.349097\n",
      "SMOKING                                   9.483428\n",
      "ORAL                                      8.655418\n",
      "INHALATION                                2.652159\n",
      "INJECTION (IV OR INTRAMUSCULAR)           1.520935\n",
      "OTHER                                     0.338962\n",
      "Name: ROUTE3, dtype: float64\n",
      "----------------------------------\n",
      "Information for FREQ3:\n",
      "\n",
      "MISSING/UNKNOWN/NOT COLLECTED/INVALID    77.472694\n",
      "NO USE IN THE PAST MONTH                  9.158319\n",
      "DAILY                                     5.857091\n",
      "1-3 TIMES IN THE PAST MONTH               3.527405\n",
      "1-2 TIMES IN THE PAST WEEK                2.117362\n",
      "3-6 TIMES IN THE PAST WEEK                1.867128\n",
      "Name: FREQ3, dtype: float64\n",
      "----------------------------------\n",
      "Information for FRSTUSE3:\n",
      "\n",
      "MISSING/UNKNOWN/NOT COLLECTED/INVALID    77.081564\n",
      "15-17                                     6.343572\n",
      "12-14                                     5.513129\n",
      "18-20                                     3.607213\n",
      "11 AND UNDER                              2.088845\n",
      "21-24                                     1.993292\n",
      "25-29                                     1.455657\n",
      "30-34                                     0.823618\n",
      "35-39                                     0.447354\n",
      "40-44                                     0.307336\n",
      "45-49                                     0.179347\n",
      "50-54                                     0.107041\n",
      "55 AND OVER                               0.052034\n",
      "Name: FRSTUSE3, dtype: float64\n",
      "----------------------------------\n",
      "Information for NUMSUBS:\n",
      "\n",
      "1    42.398127\n",
      "2    34.120190\n",
      "3    22.447634\n",
      "0     1.034050\n",
      "Name: NUMSUBS, dtype: float64\n",
      "----------------------------------\n",
      "Information for IDU:\n",
      "\n",
      "MISSING/UNKNOWN/NOT COLLECTED/INVALID    77.004257\n",
      "IDU REPORTED                             22.995743\n",
      "Name: IDU, dtype: float64\n",
      "----------------------------------\n",
      "Information for ALCFLG:\n",
      "\n",
      "SUBSTANCE REPORTED        51.969066\n",
      "SUBSTANCE NOT REPORTED    48.030934\n",
      "Name: ALCFLG, dtype: float64\n",
      "----------------------------------\n",
      "Information for COKEFLG:\n",
      "\n",
      "SUBSTANCE NOT REPORTED    82.090913\n",
      "SUBSTANCE REPORTED        17.909087\n",
      "Name: COKEFLG, dtype: float64\n",
      "----------------------------------\n",
      "Information for MARFLG:\n",
      "\n",
      "SUBSTANCE NOT REPORTED    63.351924\n",
      "SUBSTANCE REPORTED        36.648076\n",
      "Name: MARFLG, dtype: float64\n",
      "----------------------------------\n",
      "Information for HERFLG:\n",
      "\n",
      "SUBSTANCE NOT REPORTED    73.556929\n",
      "SUBSTANCE REPORTED        26.443071\n",
      "Name: HERFLG, dtype: float64\n",
      "----------------------------------\n",
      "Information for OPSYNFLG:\n",
      "\n",
      "SUBSTANCE NOT REPORTED    85.437822\n",
      "SUBSTANCE REPORTED        14.562178\n",
      "Name: OPSYNFLG, dtype: float64\n",
      "----------------------------------\n",
      "Information for MTHAMFLG:\n",
      "\n",
      "SUBSTANCE NOT REPORTED    85.230499\n",
      "SUBSTANCE REPORTED        14.769501\n",
      "Name: MTHAMFLG, dtype: float64\n",
      "----------------------------------\n",
      "Information for BENZFLG:\n",
      "\n",
      "SUBSTANCE NOT REPORTED    93.902946\n",
      "SUBSTANCE REPORTED         6.097054\n",
      "Name: BENZFLG, dtype: float64\n",
      "----------------------------------\n",
      "Information for OTHERFLG:\n",
      "\n",
      "SUBSTANCE NOT REPORTED    95.792441\n",
      "SUBSTANCE REPORTED         4.207559\n",
      "Name: OTHERFLG, dtype: float64\n",
      "----------------------------------\n",
      "Information for ALCDRUG:\n",
      "\n",
      "OTHER DRUGS ONLY           46.996884\n",
      "ALCOHOL AND OTHER DRUGS    32.650882\n",
      "ALCOHOL ONLY               19.318184\n",
      "NONE                        1.034050\n",
      "Name: ALCDRUG, dtype: float64\n",
      "----------------------------------\n",
      "Information for DSMCRIT:\n",
      "\n",
      "MISSING/UNKNOWN/NOT COLLECTED/INVALID              64.284677\n",
      "OPIOID DEPENDENCE                                   8.607574\n",
      "ALCOHOL DEPENDENCE                                  7.606299\n",
      "OTHER SUBSTANCE DEPENDENCE                          4.236549\n",
      "CANNABIS DEPENDENCE                                 3.221556\n",
      "ALCOHOL ABUSE                                       2.482070\n",
      "ALCOHOL INTOXICATION                                2.286438\n",
      "CANNABIS ABUSE                                      2.134797\n",
      "COCAINE DEPENDENCE                                  1.409300\n",
      "SUBSTANCE-INDUCED DISORDER                          0.797263\n",
      "OTHER SUBSTANCE ABUSE                               0.529526\n",
      "DEPRESSIVE DISORDERS                                0.408633\n",
      "COCAINE ABUSE                                       0.328150\n",
      "OPIOID ABUSE                                        0.316189\n",
      "OTHER CONDITION                                     0.281184\n",
      "ANXIETY DISORDERS                                   0.260709\n",
      "OTHER MENTAL HEALTH CONDITION                       0.248342\n",
      "BIPOLAR DISORDERS                                   0.211986\n",
      "ALCOHOL-INDUCED DISORDER                            0.208337\n",
      "SCHIZOPHRENIA/OTHER PSYCHOTIC DISORDERS             0.096364\n",
      "ATTENTION DEFICIT/DISRUPTIVE BEHAVIOR DISORDERS     0.044060\n",
      "Name: DSMCRIT, dtype: float64\n",
      "----------------------------------\n",
      "Information for PSYPROB:\n",
      "\n",
      "NO                                       49.879951\n",
      "YES                                      28.737753\n",
      "MISSING/UNKNOWN/NOT COLLECTED/INVALID    21.382296\n",
      "Name: PSYPROB, dtype: float64\n",
      "----------------------------------\n",
      "Information for HLTHINS:\n",
      "\n",
      "MISSING/UNKNOWN/NOT COLLECTED/INVALID             55.067769\n",
      "NONE                                              20.896559\n",
      "MEDICAID                                          11.582815\n",
      "PRIVATE INSURANCE, BLUE CROSS/BLUE SHIELD, HMO     6.705780\n",
      "MEDICARE, OTHER (E.G. TRICARE, CHAMPUS)            5.747078\n",
      "Name: HLTHINS, dtype: float64\n",
      "----------------------------------\n",
      "Information for PRIMPAY:\n",
      "\n",
      "MISSING/UNKNOWN/NOT COLLECTED/INVALID                       66.480292\n",
      "OTHER GOVERNMENT PAYMENTS                                   14.741119\n",
      "MEDICAID                                                     7.591365\n",
      "SELF-PAY                                                     4.010372\n",
      "OTHER                                                        3.120192\n",
      "BLUE CROSS/BLUE SHIELD, OTHER HEALTH INSURANCE COMPANIES     1.928622\n",
      "NO CHARGE (FREE, CHARITY, SPECIAL RESEARCH, TEACHING)        1.877332\n",
      "MEDICARE, WORKER'S COMPENSATION                              0.250707\n",
      "Name: PRIMPAY, dtype: float64\n",
      "----------------------------------\n"
     ]
    }
   ],
   "source": [
    "#How do the frequencies of the features look?\n",
    "for i in rehabclean.columns:\n",
    "    print('Information for '+i+':')\n",
    "    print('')\n",
    "    print((rehabclean[i].value_counts()/len(rehabclean))*100)\n",
    "    print('----------------------------------')"
   ]
  },
  {
   "cell_type": "markdown",
   "metadata": {},
   "source": [
    "Some columns contain too many categories which may lead to noise. Will need to recategorize at some point."
   ]
  },
  {
   "cell_type": "code",
   "execution_count": 7,
   "metadata": {
    "collapsed": true
   },
   "outputs": [],
   "source": [
    "#We're interested in if they completed a treatment, or if they did not due to some personal reason.\n",
    "#Filter rows to only those that interesting outcomes.\n",
    "\n",
    "#rehabclean = rehabclean.query('REASON in [\"TREATMENT COMPLETED\",\"TERMINATED BY FACILITY\",\"LEFT AGAINST PROFESSIONAL ADVICE\",\"INCARCERATED\",\"DEATH\"]')\n",
    "rehabclean = rehabclean.query('REASON in [\"TREATMENT COMPLETED\",\"LEFT AGAINST PROFESSIONAL ADVICE\"]')"
   ]
  },
  {
   "cell_type": "code",
   "execution_count": 8,
   "metadata": {
    "collapsed": true
   },
   "outputs": [],
   "source": [
    "#Using the codebook provided by the CDC, missing values exist as \"MISSING/UNKNOWN/NOT COLLECTED/INVALID\" or -9.\n",
    "#Convert these values into \"NA\"\n",
    "rehabclean = rehabclean.replace(\"MISSING/UNKNOWN/NOT COLLECTED/INVALID\",np.NaN)\n",
    "rehabclean = rehabclean.replace(-9,np.NaN)"
   ]
  },
  {
   "cell_type": "markdown",
   "metadata": {},
   "source": [
    "## Feature Exploration\n",
    "\n",
    "What categories could potentially be related to whether they complete rehabilitation or not?"
   ]
  },
  {
   "cell_type": "code",
   "execution_count": 38,
   "metadata": {},
   "outputs": [
    {
     "data": {
      "text/plain": [
       "<matplotlib.axes._subplots.AxesSubplot at 0x11862c5c0>"
      ]
     },
     "execution_count": 38,
     "metadata": {},
     "output_type": "execute_result"
    },
    {
     "data": {
      "image/png": "[encoded data removed]",
      "text/plain": [
       "<Figure size 1008x720 with 1 Axes>"
      ]
     },
     "metadata": {},
     "output_type": "display_data"
    }
   ],
   "source": [
    "#Psychological problem?\n",
    "\n",
    "sns.countplot(x=\"PSYPROB\", hue=\"REASON\",data=rehabclean)"
   ]
  },
  {
   "cell_type": "code",
   "execution_count": 50,
   "metadata": {},
   "outputs": [
    {
     "data": {
      "image/png": "[encoded data removed]",
      "text/plain": [
       "<Figure size 1008x720 with 1 Axes>"
      ]
     },
     "metadata": {},
     "output_type": "display_data"
    }
   ],
   "source": [
    "#SUB1?\n",
    "#Data is much too sparse, let's try to recategorize to paint a better picture.\n",
    "rehabclean.loc[rehabclean['SUB1'].value_counts()[rehabclean['SUB1']].values < 10000,'SUB1'] = \"OTHER\"\n",
    "sns.countplot(x=\"SUB1\", hue=\"REASON\",data=rehabclean)\n",
    "rehabclean.loc[rehabclean['SUB2'].value_counts()[rehabclean['SUB2']].values < 10000,'SUB2'] = \"OTHER\""
   ]
  },
  {
   "cell_type": "markdown",
   "metadata": {},
   "source": [
    "If the patient has an addiction to alcohol, they seem to be able to complete rehab at a muc higher rate than more extreme drugs."
   ]
  },
  {
   "cell_type": "code",
   "execution_count": null,
   "metadata": {},
   "outputs": [],
   "source": [
    "#Age?\n",
    "sns.countplot(x=\"AGE\", hue=\"REASON\", data=rehabclean)"
   ]
  },
  {
   "cell_type": "code",
   "execution_count": null,
   "metadata": {},
   "outputs": [],
   "source": [
    "#RACE?\n",
    "sns.countplot(x=\"RACE\", hue=\"REASON\", data=rehabclean)"
   ]
  },
  {
   "cell_type": "code",
   "execution_count": null,
   "metadata": {},
   "outputs": [],
   "source": [
    "#GENDER?\n",
    "sns.countplot(x=\"GENDER\", hue=\"REASON\", data=rehabclean)"
   ]
  },
  {
   "cell_type": "code",
   "execution_count": 39,
   "metadata": {},
   "outputs": [
    {
     "data": {
      "text/plain": [
       "<matplotlib.axes._subplots.AxesSubplot at 0x11864c518>"
      ]
     },
     "execution_count": 39,
     "metadata": {},
     "output_type": "execute_result"
    },
    {
     "data": {
      "image/png": "[encoded data removed]",
      "text/plain": [
       "<Figure size 1008x720 with 1 Axes>"
      ]
     },
     "metadata": {},
     "output_type": "display_data"
    }
   ],
   "source": [
    "#HOMELESSNESS?\n",
    "sns.countplot(x=\"LIVARAG\", hue=\"REASON\", data=rehabclean)"
   ]
  },
  {
   "cell_type": "code",
   "execution_count": 40,
   "metadata": {},
   "outputs": [
    {
     "data": {
      "text/plain": [
       "<matplotlib.axes._subplots.AxesSubplot at 0x117e09eb8>"
      ]
     },
     "execution_count": 40,
     "metadata": {},
     "output_type": "execute_result"
    },
    {
     "data": {
      "image/png": "[encoded data removed]",
      "text/plain": [
       "<Figure size 1008x720 with 1 Axes>"
      ]
     },
     "metadata": {},
     "output_type": "display_data"
    }
   ],
   "source": [
    "#MARSTAT?\n",
    "sns.countplot(x=\"MARSTAT\", hue=\"REASON\", data=rehabclean)"
   ]
  },
  {
   "cell_type": "code",
   "execution_count": 44,
   "metadata": {},
   "outputs": [
    {
     "data": {
      "text/plain": [
       "<matplotlib.axes._subplots.AxesSubplot at 0x1a1b9bc518>"
      ]
     },
     "execution_count": 44,
     "metadata": {},
     "output_type": "execute_result"
    },
    {
     "data": {
      "image/png": "[encoded data removed]",
      "text/plain": [
       "<Figure size 1008x720 with 1 Axes>"
      ]
     },
     "metadata": {},
     "output_type": "display_data"
    }
   ],
   "source": [
    "#MARSTAT?\n",
    "sns.countplot(x=\"ROUTE1\", hue=\"SUB1\", data=rehabclean)"
   ]
  },
  {
   "cell_type": "markdown",
   "metadata": {},
   "source": [
    "## Missing Value Imputation"
   ]
  },
  {
   "cell_type": "code",
   "execution_count": 16,
   "metadata": {
    "collapsed": true
   },
   "outputs": [],
   "source": [
    "#How many missing values are in each column? What is the proportion?\n",
    "missing = ((rehabclean.isnull().sum()/len(rehabclean))*100).to_dict()\n",
    "missingsort = sorted(missing.items(),key=lambda kv: kv[1])"
   ]
  },
  {
   "cell_type": "code",
   "execution_count": 17,
   "metadata": {},
   "outputs": [
    {
     "data": {
      "text/plain": [
       "[('AGE', 0.0),\n",
       " ('GENDER', 0.0),\n",
       " ('RACE', 0.0),\n",
       " ('ETHNIC', 0.0),\n",
       " ('EDUC', 0.0),\n",
       " ('EMPLOY', 0.0),\n",
       " ('VET', 0.0),\n",
       " ('LIVARAG', 0.0),\n",
       " ('ARRESTS', 0.0),\n",
       " ('STFIPS', 0.0),\n",
       " ('CBSA', 0.0),\n",
       " ('REGION', 0.0),\n",
       " ('DIVISION', 0.0),\n",
       " ('SERVSETD', 0.0),\n",
       " ('METHUSE', 0.0),\n",
       " ('REASON', 0.0),\n",
       " ('LOS', 0.0),\n",
       " ('PSOURCE', 0.0),\n",
       " ('NOPRIOR', 0.0),\n",
       " ('SUB1', 0.0),\n",
       " ('ROUTE1', 0.0),\n",
       " ('FREQ1', 0.0),\n",
       " ('FRSTUSE1', 0.0),\n",
       " ('SUB2', 0.0),\n",
       " ('NUMSUBS', 0.0),\n",
       " ('ALCFLG', 0.0),\n",
       " ('COKEFLG', 0.0),\n",
       " ('MARFLG', 0.0),\n",
       " ('HERFLG', 0.0),\n",
       " ('OPSYNFLG', 0.0),\n",
       " ('MTHAMFLG', 0.0),\n",
       " ('BENZFLG', 0.0),\n",
       " ('OTHERFLG', 0.0),\n",
       " ('ALCDRUG', 0.0),\n",
       " ('PSYPROB', 11.87065229591627),\n",
       " ('MARSTAT', 16.760613120381954),\n",
       " ('SUB3', 18.44329950530964),\n",
       " ('PRIMINC', 33.40775133528071),\n",
       " ('DAYWAIT', 40.33369013822311),\n",
       " ('FRSTUSE2', 41.5753437783174),\n",
       " ('ROUTE2', 43.12155913698844),\n",
       " ('FREQ2', 43.39942892966746),\n",
       " ('HLTHINS', 59.06745254996866),\n",
       " ('PREG', 67.58915787658201),\n",
       " ('DSMCRIT', 68.93771610193852),\n",
       " ('DETNLF', 69.5595695345202),\n",
       " ('PRIMPAY', 70.06000892468496),\n",
       " ('DETCRIM', 73.42866685465083),\n",
       " ('IDU', 78.64741745350814),\n",
       " ('FRSTUSE3', 78.95252669876997),\n",
       " ('ROUTE3', 79.48965037683524),\n",
       " ('FREQ3', 79.62625828476315)]"
      ]
     },
     "execution_count": 17,
     "metadata": {},
     "output_type": "execute_result"
    }
   ],
   "source": [
    "missingsort"
   ]
  },
  {
   "cell_type": "code",
   "execution_count": 11,
   "metadata": {
    "collapsed": true
   },
   "outputs": [],
   "source": [
    "#For features with less than 10% of missing values, append the to a list.\n",
    "autoimputelist = []\n",
    "\n",
    "for i in missingsort:\n",
    "    if i[1] > 0 and i[1] < 10:\n",
    "        autoimputelist.append(i[0])"
   ]
  },
  {
   "cell_type": "code",
   "execution_count": null,
   "metadata": {
    "collapsed": true
   },
   "outputs": [],
   "source": [
    "#For those feature columns, replace with the most common label.\n",
    "for column in autoimputelist:\n",
    "    mode = rehabclean[str(column)].value_counts().idxmax()\n",
    "    rehabclean[str(column)].fillna(mode,inplace=True)"
   ]
  },
  {
   "cell_type": "code",
   "execution_count": 15,
   "metadata": {},
   "outputs": [],
   "source": [
    "#For features with less than 10% of missing values, drop from dataset.\n",
    "\n",
    "rehabclean = rehabclean.dropna(subset=autoimputelist)"
   ]
  },
  {
   "cell_type": "code",
   "execution_count": 52,
   "metadata": {},
   "outputs": [
    {
     "name": "stdout",
     "output_type": "stream",
     "text": [
      "('PSYPROB', 11.87065229591627)\n",
      "('MARSTAT', 16.760613120381954)\n",
      "('SUB3', 18.44329950530964)\n",
      "('PRIMINC', 33.40775133528071)\n",
      "('DAYWAIT', 40.33369013822311)\n",
      "('FRSTUSE2', 41.5753437783174)\n",
      "('ROUTE2', 43.12155913698844)\n",
      "('FREQ2', 43.39942892966746)\n",
      "('HLTHINS', 59.06745254996866)\n",
      "('PREG', 67.58915787658201)\n",
      "('DSMCRIT', 68.93771610193852)\n",
      "('DETNLF', 69.5595695345202)\n",
      "('PRIMPAY', 70.06000892468496)\n",
      "('DETCRIM', 73.42866685465083)\n",
      "('IDU', 78.64741745350814)\n",
      "('FRSTUSE3', 78.95252669876997)\n",
      "('ROUTE3', 79.48965037683524)\n",
      "('FREQ3', 79.62625828476315)\n"
     ]
    }
   ],
   "source": [
    "#Produce a new list of missing values.\n",
    "missing = ((rehabclean.isnull().sum()/len(rehabclean))*100).to_dict()\n",
    "missingsort = sorted(missing.items(),key=lambda kv: kv[1])\n",
    "\n",
    "largemissing = []\n",
    "\n",
    "for col in missingsort:\n",
    "    if col[1]>0:\n",
    "        print(col)\n",
    "        largemissing.append(col[0])"
   ]
  },
  {
   "cell_type": "code",
   "execution_count": 53,
   "metadata": {},
   "outputs": [
    {
     "name": "stdout",
     "output_type": "stream",
     "text": [
      "PSYPROB : 0.0\n",
      "MARSTAT : 0.0\n",
      "SUB3 : 0.0\n",
      "PRIMINC : 0.0\n",
      "DAYWAIT : 0.0\n",
      "FRSTUSE2 : 0.0\n",
      "ROUTE2 : 0.0\n",
      "FREQ2 : 0.0\n",
      "HLTHINS : 0.0\n",
      "PREG : 0.0\n",
      "DSMCRIT : 0.0\n",
      "DETNLF : 0.0\n",
      "PRIMPAY : 0.0\n",
      "DETCRIM : 0.0\n",
      "IDU : 1.0\n",
      "FRSTUSE3 : 0.0\n",
      "ROUTE3 : 0.0\n",
      "FREQ3 : 0.0\n"
     ]
    }
   ],
   "source": [
    "#Are these columns worth imputing? Let's see how well they relate to the class label.\n",
    "\n",
    "#Perform a chi-squared test for PSYPROB on REASON.\n",
    "contingence = pd.crosstab(rehabclean['PSYPROB'],rehabclean['REASON'])\n",
    "\n",
    "chi2_contingency(contingence)\n",
    "\n",
    "#The p-value is 0, suggesting that there might be a relationship.\n",
    "\n",
    "#What about the other columns?\n",
    "for col in largemissing:\n",
    "    cont = pd.crosstab(rehabclean[col],rehabclean['REASON'])\n",
    "    val,pval,dof,exp = chi2_contingency(cont)\n",
    "    print(str(col) + \" : \" + str(round(pval,2)))"
   ]
  },
  {
   "cell_type": "markdown",
   "metadata": {},
   "source": [
    "Nearly all of these columns are statistically significant - will need to determine how to impute these."
   ]
  },
  {
   "cell_type": "markdown",
   "metadata": {},
   "source": [
    "### Feature Recategorization"
   ]
  },
  {
   "cell_type": "code",
   "execution_count": null,
   "metadata": {
    "collapsed": true
   },
   "outputs": [],
   "source": [
    "#Length of stay variable is sparse, must impute manually.\n",
    "#LOS < 30 is sparse, and is categorical, recombine into <30 days.\n",
    "LOSrecode = list(range(1,31))\n",
    "LOSrecode = list(map(str,LOSrecode))\n",
    "rehabclean['LOS'] = rehabclean['LOS'].replace(LOSrecode,'LESS THAN 30')\n",
    "\n",
    "#Replace missing values in LOS with most common.\n",
    "LOSmode = rehabclean['LOS'].value_counts().idxmax()\n",
    "rehabclean['LOS'].fillna(LOSmode, inplace=True)"
   ]
  },
  {
   "cell_type": "code",
   "execution_count": null,
   "metadata": {
    "collapsed": true
   },
   "outputs": [],
   "source": [
    "#Daywait is sparse, let's recode.\n",
    "rehabclean['DAYCAT'] = 'No Wait'\n",
    "rehabclean['DAYCAT'][rehabclean['DAYWAIT'] == 0] = 'No Wait'\n",
    "rehabclean['DAYCAT'][rehabclean['DAYWAIT'] > 0] = 'More than 0 days'"
   ]
  },
  {
   "cell_type": "code",
   "execution_count": null,
   "metadata": {
    "collapsed": true
   },
   "outputs": [],
   "source": [
    "#pd.crosstab(rehabclean['DAYWAIT'],rehabclean['REASON'])\n",
    "\n",
    "#sns.catplot(x=rehabclean['REASON'].values, y=rehabclean[\"DAYWAIT\"].values, kind=\"box\", data=rehabclean)\n",
    "\n",
    "#daytest = rehabclean['DAYWAIT'].dropna()\n",
    "\n",
    "sns.barplot(rehabclean['DAYCAT'])"
   ]
  },
  {
   "cell_type": "markdown",
   "metadata": {
    "collapsed": true
   },
   "source": [
    "### Preliminary Model Testing\n",
    "\n",
    "There are about 17 features that have a high amount of missing values. Let's try running a model without\n",
    "these features to test how well it performs."
   ]
  },
  {
   "cell_type": "code",
   "execution_count": 54,
   "metadata": {
    "collapsed": true
   },
   "outputs": [],
   "source": [
    "#There are about 17 features that have a high amount of missing values. Let's try running a model without\n",
    "#these features to test how well it performs.\n",
    "\n",
    "cleanmissing = ((rehabclean.isnull().sum()/len(rehabclean))*100).to_dict()\n",
    "cleanmissingsort = sorted(cleanmissing.items(),key=lambda kv: kv[1])\n",
    "\n",
    "dropfeatures = []\n",
    "\n",
    "for i in cleanmissingsort:\n",
    "    if i[1]>0:\n",
    "        dropfeatures.append(i[0])\n",
    "\n",
    "#Drop the columns.\n",
    "rehabtest = rehabclean.drop(dropfeatures,1)\n",
    "\n",
    "#Drop the census data, except for region.\n",
    "rehabtest = rehabtest.drop(['STFIPS','CBSA','REGION'],1)"
   ]
  },
  {
   "cell_type": "code",
   "execution_count": 55,
   "metadata": {},
   "outputs": [
    {
     "data": {
      "text/plain": [
       "Index(['AGE', 'GENDER', 'RACE', 'ETHNIC', 'EDUC', 'EMPLOY', 'VET', 'LIVARAG',\n",
       "       'ARRESTS', 'DIVISION', 'SERVSETD', 'METHUSE', 'REASON', 'LOS',\n",
       "       'PSOURCE', 'NOPRIOR', 'SUB1', 'ROUTE1', 'FREQ1', 'FRSTUSE1', 'SUB2',\n",
       "       'NUMSUBS', 'ALCFLG', 'COKEFLG', 'MARFLG', 'HERFLG', 'OPSYNFLG',\n",
       "       'MTHAMFLG', 'BENZFLG', 'OTHERFLG', 'ALCDRUG'],\n",
       "      dtype='object')"
      ]
     },
     "execution_count": 55,
     "metadata": {},
     "output_type": "execute_result"
    }
   ],
   "source": [
    "rehabtest.columns"
   ]
  },
  {
   "cell_type": "markdown",
   "metadata": {},
   "source": [
    "#### Encoding section:"
   ]
  },
  {
   "cell_type": "code",
   "execution_count": 58,
   "metadata": {},
   "outputs": [],
   "source": [
    "#Manual encoding of the columns.\n",
    "\n",
    "#Ordinal/binary variables.\n",
    "def recat(colnames):\n",
    "    for col in colnames:\n",
    "        rehabtest[col] = rehabtest[col].astype('category')\n",
    "        rehabtest[col] = rehabtest[col].cat.codes\n",
    "\n",
    "recat(['AGE','EDUC','ARRESTS','NOPRIOR','FREQ1','FRSTUSE1','GENDER','ALCFLG','COKEFLG','MARFLG','HERFLG',\n",
    "       'OPSYNFLG','MTHAMFLG','BENZFLG','OTHERFLG','ALCDRUG'])\n",
    "\n",
    "#recat(['AGE','EDUC','ARRESTS','NOPRIOR','FREQ1','FRSTUSE1','GENDER','ALCFLG','COKEFLG','MARFLG','HERFLG',\n",
    "#       'OPSYNFLG','MTHAMFLG','BENZFLG','OTHERFLG','ALCDRUG','PSYPROB'])"
   ]
  },
  {
   "cell_type": "code",
   "execution_count": 59,
   "metadata": {
    "collapsed": true
   },
   "outputs": [],
   "source": [
    "#One hot encode multicategory.\n",
    "rehabtest = pd.get_dummies(rehabtest,columns=['RACE','ETHNIC','EMPLOY','VET',\n",
    "                                                     'LIVARAG','DIVISION','SERVSETD','METHUSE',\n",
    "                                                     'LOS','PSOURCE','SUB1','ROUTE1','SUB2'])"
   ]
  },
  {
   "cell_type": "code",
   "execution_count": 60,
   "metadata": {},
   "outputs": [
    {
     "data": {
      "text/plain": [
       "AGE                                                      int8\n",
       "GENDER                                                   int8\n",
       "EDUC                                                     int8\n",
       "ARRESTS                                                  int8\n",
       "REASON                                                 object\n",
       "NOPRIOR                                                  int8\n",
       "FREQ1                                                    int8\n",
       "FRSTUSE1                                                 int8\n",
       "NUMSUBS                                                 int64\n",
       "ALCFLG                                                   int8\n",
       "COKEFLG                                                  int8\n",
       "MARFLG                                                   int8\n",
       "HERFLG                                                   int8\n",
       "OPSYNFLG                                                 int8\n",
       "MTHAMFLG                                                 int8\n",
       "BENZFLG                                                  int8\n",
       "OTHERFLG                                                 int8\n",
       "ALCDRUG                                                  int8\n",
       "RACE_ALASKA NATIVE (ALEUT, ESKIMO, INDIAN)              uint8\n",
       "RACE_AMERICAN INDIAN (OTHER THAN ALASKA NATIVE)         uint8\n",
       "RACE_ASIAN                                              uint8\n",
       "RACE_ASIAN OR PACIFIC ISLANDER                          uint8\n",
       "RACE_BLACK OR AFRICAN AMERICAN                          uint8\n",
       "RACE_NATIVE HAWAIIAN OR OTHER PACIFIC ISLANDER          uint8\n",
       "RACE_OTHER SINGLE RACE                                  uint8\n",
       "RACE_TWO OR MORE RACES                                  uint8\n",
       "RACE_WHITE                                              uint8\n",
       "ETHNIC_CUBAN                                            uint8\n",
       "ETHNIC_HISPANIC, SPECIFIC ORIGIN NOT SPECIFIED          uint8\n",
       "ETHNIC_MEXICAN                                          uint8\n",
       "                                                        ...  \n",
       "LOS_91 TO 120 DAYS                                      uint8\n",
       "LOS_MORE THAN A YEAR                                    uint8\n",
       "PSOURCE_ALCOHOL/DRUG ABUSE CARE PROVIDER                uint8\n",
       "PSOURCE_COURT/CRIMINAL JUSTICE REFERRAL / DUI / DWI     uint8\n",
       "PSOURCE_EMPLOYER/EAP                                    uint8\n",
       "PSOURCE_INDIVIDUAL (INCLUDES SELF-REFERRAL)             uint8\n",
       "PSOURCE_OTHER COMMUNITY REFERRAL                        uint8\n",
       "PSOURCE_OTHER HEALTH CARE PROVIDER                      uint8\n",
       "PSOURCE_SCHOOL (EDUCATIONAL)                            uint8\n",
       "SUB1_ALCOHOL                                            uint8\n",
       "SUB1_COCAINE/CRACK                                      uint8\n",
       "SUB1_HEROIN                                             uint8\n",
       "SUB1_MARIJUANA/HASHISH                                  uint8\n",
       "SUB1_METHAMPHETAMINE                                    uint8\n",
       "SUB1_OTHER                                              uint8\n",
       "SUB1_OTHER OPIATES AND SYNTHETICS                       uint8\n",
       "ROUTE1_INHALATION                                       uint8\n",
       "ROUTE1_INJECTION (IV OR INTRAMUSCULAR)                  uint8\n",
       "ROUTE1_ORAL                                             uint8\n",
       "ROUTE1_OTHER                                            uint8\n",
       "ROUTE1_SMOKING                                          uint8\n",
       "SUB2_ALCOHOL                                            uint8\n",
       "SUB2_BENZODIAZEPINES                                    uint8\n",
       "SUB2_COCAINE/CRACK                                      uint8\n",
       "SUB2_HEROIN                                             uint8\n",
       "SUB2_MARIJUANA/HASHISH                                  uint8\n",
       "SUB2_METHAMPHETAMINE                                    uint8\n",
       "SUB2_NONE                                               uint8\n",
       "SUB2_OTHER                                              uint8\n",
       "SUB2_OTHER OPIATES AND SYNTHETICS                       uint8\n",
       "Length: 127, dtype: object"
      ]
     },
     "execution_count": 60,
     "metadata": {},
     "output_type": "execute_result"
    }
   ],
   "source": [
    "rehabtest.dtypes"
   ]
  },
  {
   "cell_type": "markdown",
   "metadata": {},
   "source": [
    "### Dimensionality Reduction\n",
    "\n",
    "Could we reduce this dataset into two components? Will it mean anything?"
   ]
  },
  {
   "cell_type": "code",
   "execution_count": 66,
   "metadata": {
    "collapsed": true
   },
   "outputs": [],
   "source": [
    "X=rehabtest.iloc[:,rehabtest.columns != 'REASON']\n",
    "Y=rehabtest.iloc[:,rehabtest.columns == 'REASON']"
   ]
  },
  {
   "cell_type": "code",
   "execution_count": null,
   "metadata": {
    "collapsed": true
   },
   "outputs": [],
   "source": [
    "# set up a PCA learner\n",
    "pca = PCA(n_components = 2)\n",
    "eigenbasis = pca.fit(X)\n",
    "rehab2d = eigenbasis.transform(X)"
   ]
  },
  {
   "cell_type": "code",
   "execution_count": null,
   "metadata": {
    "collapsed": true
   },
   "outputs": [],
   "source": [
    "# let's also look at how much of the total variance we were able to cover with 2 dimensions\n",
    "print('percentage of variance explained:', sum(pca.explained_variance_ratio_))"
   ]
  },
  {
   "cell_type": "code",
   "execution_count": null,
   "metadata": {},
   "outputs": [],
   "source": [
    "#Utilizer a TSNE learner.\n",
    "\n",
    "td = TSNE(n_components=2).fit_transform(X)"
   ]
  },
  {
   "cell_type": "code",
   "execution_count": null,
   "metadata": {},
   "outputs": [],
   "source": [
    "#Split this into features and labels, and run a test algorithm.\n",
    "\n",
    "PCAlabels = Y.values\n",
    "\n",
    "X_train, X_test, y_train, y_test = train_test_split(rehab2d,PCAlabels,test_size=.3)\n",
    "\n",
    "#Train on a neural network.\n",
    "neural = MLPClassifier(solver='lbfgs',alpha=1e-5,hidden_layer_sizes=(15,),random_state=1)\n",
    "neural = neural.fit(X_train,y_train)\n",
    "y_pred = neural.predict(X_test)\n",
    "\n",
    "print('Accuracy:',metrics.accuracy_score(y_test,y_pred))"
   ]
  },
  {
   "cell_type": "code",
   "execution_count": null,
   "metadata": {},
   "outputs": [],
   "source": [
    "#Train on a random forest.\n",
    "\n",
    "clf=RandomForestClassifier(n_estimators=100)\n",
    "clf.fit(X_train,y_train)\n",
    "y_pred=clf.predict(X_test)\n",
    "\n",
    "from sklearn import metrics\n",
    "print('Accuracy:',metrics.accuracy_score(y_test,y_pred))"
   ]
  },
  {
   "cell_type": "markdown",
   "metadata": {},
   "source": [
    "### Feature Selection"
   ]
  },
  {
   "cell_type": "code",
   "execution_count": null,
   "metadata": {
    "collapsed": true
   },
   "outputs": [],
   "source": [
    "#Use recursive feature elimination.\n",
    "#Create a baseline classifier from a robust model, used ot evaluate a subset of attributes.\n",
    "\n",
    "rf = LogisticRegression()\n",
    "#rf = RandomForestClassifier(n_estimators=10)\n",
    "\n",
    "#Create the RFE model and select 3 attributes.\n",
    "rfe = RFE(rf, n_features_to_select=5)\n",
    "rfe = rfe.fit(X_train,y_train)\n",
    "\n",
    "#Summarise the selection of the attributes.\n",
    "print(rfe.support_)\n",
    "print sorted(zip(map(lambda x:round(x,4),rfe.ranking_),rehabtest.columns)"
   ]
  },
  {
   "cell_type": "code",
   "execution_count": null,
   "metadata": {
    "collapsed": true
   },
   "outputs": [],
   "source": [
    "print(sorted(zip(map(lambda x:round(x,4),rfe.ranking_),rehabtest.columns)))"
   ]
  },
  {
   "cell_type": "markdown",
   "metadata": {},
   "source": [
    "### Baseline Models"
   ]
  },
  {
   "cell_type": "code",
   "execution_count": null,
   "metadata": {
    "collapsed": true
   },
   "outputs": [],
   "source": [
    "#Split the data into features and labels, and split into training and testing data.\n",
    "\n",
    "X=rehabtest.iloc[:,rehabtest.columns != 'REASON']\n",
    "Y=rehabtest.iloc[:,rehabtest.columns == 'REASON']\n",
    "\n",
    "X_train, X_test, y_train, y_test = train_test_split(X,Y,test_size=.3)"
   ]
  },
  {
   "cell_type": "code",
   "execution_count": null,
   "metadata": {},
   "outputs": [],
   "source": [
    "#Train on a random forest.\n",
    "\n",
    "clf=RandomForestClassifier(n_estimators=100)\n",
    "clf.fit(X_train,y_train)\n",
    "y_pred=clf.predict(X_test)\n",
    "\n",
    "from sklearn import metrics\n",
    "print('Accuracy:',metrics.accuracy_score(y_test,y_pred))"
   ]
  },
  {
   "cell_type": "code",
   "execution_count": null,
   "metadata": {},
   "outputs": [],
   "source": [
    "#Train on a decision tree.\n",
    "tree = tree.DecisionTreeClassifier()\n",
    "tree = tree.fit(X_train,y_train)\n",
    "y_pred = tree.predict(X_test)\n",
    "\n",
    "from sklearn import metrics\n",
    "print('Accuracy:',metrics.accuracy_score(y_test,y_pred))"
   ]
  },
  {
   "cell_type": "code",
   "execution_count": null,
   "metadata": {},
   "outputs": [],
   "source": [
    "#Train on a neural network.\n",
    "neural = MLPClassifier(solver='lbfgs',alpha=1e-5,hidden_layer_sizes=(15,),random_state=1)\n",
    "neural = neural.fit(X_train,y_train)\n",
    "y_pred = neural.predict(X_test)\n",
    "\n",
    "print('Accuracy:',metrics.accuracy_score(y_test,y_pred))"
   ]
  },
  {
   "cell_type": "code",
   "execution_count": null,
   "metadata": {},
   "outputs": [],
   "source": [
    "#Adaboost on full set.\n",
    "\n",
    "ada = AdaBoostClassifier(n_estimators=100)\n",
    "ada.fit(X_train,y_train)\n",
    "y_pred=ada.predict(X_test)\n",
    "\n",
    "from sklearn import metrics\n",
    "print('Accuracy:',metrics.accuracy_score(y_test,y_pred))"
   ]
  },
  {
   "cell_type": "code",
   "execution_count": null,
   "metadata": {},
   "outputs": [],
   "source": [
    "#Train on SVM.\n",
    "clf = svm.SVC(kernel='linear')\n",
    "clf.fit(X_train,y_train)\n",
    "y_pred=clf.predict(X_test)\n",
    "\n",
    "from sklearn import metrics\n",
    "print('Accuracy:',metrics.accuracy_score(y_test,y_pred))"
   ]
  },
  {
   "cell_type": "code",
   "execution_count": null,
   "metadata": {
    "collapsed": true
   },
   "outputs": [],
   "source": [
    "#Train on kNN.\n",
    "neigh = KNeighborsClassifier(n_neighbors=3)\n",
    "neigh = neigh.fit(X_train,y_train)\n",
    "y_pred = neigh.predict(X_test)\n",
    "\n",
    "print('Accuracy:',metrics.accuracy_score(y_test,y_pred))"
   ]
  },
  {
   "cell_type": "code",
   "execution_count": null,
   "metadata": {
    "collapsed": true
   },
   "outputs": [],
   "source": [
    "#Train on a random forest with only the top 10 features.\n",
    "rehabred = rehabtest[['SERVSETD_AMBULATORY, INTENSIVE OUTPATIENT','FRSTUSE1', \n",
    "                     'AGE','FREQ1','NOPRIOR','REASON','EDUC','ARRESTS','LIVARAG_HOMELESS','SUB2','ETHNIC_MEXICAN']]"
   ]
  },
  {
   "cell_type": "code",
   "execution_count": null,
   "metadata": {
    "collapsed": true
   },
   "outputs": [],
   "source": [
    "Xred=rehabred.iloc[:,rehabred.columns != 'REASON']\n",
    "Yred=rehabred.iloc[:,rehabred.columns == 'REASON']\n",
    "\n",
    "X_trainred, X_testred, y_trainred, y_testred = train_test_split(Xred,Yred,test_size=.3)"
   ]
  },
  {
   "cell_type": "code",
   "execution_count": null,
   "metadata": {
    "collapsed": true
   },
   "outputs": [],
   "source": [
    "#Train on a random forest.\n",
    "clf2=RandomForestClassifier(n_estimators=100)\n",
    "clf2.fit(X_trainred,y_trainred)\n",
    "y_predred=clf2.predict(X_testred)\n",
    "\n",
    "print('Accuracy:',metrics.accuracy_score(y_testred,y_predred))"
   ]
  },
  {
   "cell_type": "markdown",
   "metadata": {},
   "source": [
    "Wow, this actually made it worse."
   ]
  },
  {
   "cell_type": "code",
   "execution_count": null,
   "metadata": {
    "collapsed": true
   },
   "outputs": [],
   "source": [
    "#Adaboost\n",
    "\n",
    "ada = AdaBoostClassifier(n_estimators=100)\n",
    "ada.fit(X_trainred,y_trainred)\n",
    "y_predred=ada.predict(X_testred)\n",
    "\n",
    "from sklearn import metrics\n",
    "print('Accuracy:',metrics.accuracy_score(y_testred,y_predred))"
   ]
  },
  {
   "cell_type": "code",
   "execution_count": null,
   "metadata": {
    "collapsed": true
   },
   "outputs": [],
   "source": [
    "confusion_matrix(y_test,y_pred)"
   ]
  }
 ],
 "metadata": {
  "kernelspec": {
   "display_name": "Python 3",
   "language": "python",
   "name": "python3"
  },
  "language_info": {
   "codemirror_mode": {
    "name": "ipython",
    "version": 3
   },
   "file_extension": ".py",
   "mimetype": "text/x-python",
   "name": "python",
   "nbconvert_exporter": "python",
   "pygments_lexer": "ipython3",
   "version": "3.6.2"
  }
 },
 "nbformat": 4,
 "nbformat_minor": 2
}
